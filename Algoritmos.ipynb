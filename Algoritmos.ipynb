{
  "nbformat": 4,
  "nbformat_minor": 0,
  "metadata": {
    "colab": {
      "name": "Algoritmos",
      "provenance": [],
      "authorship_tag": "ABX9TyNEsQ7xcoLOds8W/O7FwPOM",
      "include_colab_link": true
    },
    "kernelspec": {
      "name": "python3",
      "display_name": "Python 3"
    },
    "language_info": {
      "name": "python"
    }
  },
  "cells": [
    {
      "cell_type": "markdown",
      "metadata": {
        "id": "view-in-github",
        "colab_type": "text"
      },
      "source": [
        "<a href=\"https://colab.research.google.com/github/CruzAlexander/RepositorioColab/blob/main/Algoritmos.ipynb\" target=\"_parent\"><img src=\"https://colab.research.google.com/assets/colab-badge.svg\" alt=\"Open In Colab\"/></a>"
      ]
    },
    {
      "cell_type": "markdown",
      "metadata": {
        "id": "J4Gn2M3nbjqT"
      },
      "source": [
        "#Temario\n",
        "1. Colab\n",
        "2. Compilacion por terminal\n",
        "3. Control de versiones\n",
        "4. Templates"
      ]
    },
    {
      "cell_type": "code",
      "metadata": {
        "colab": {
          "base_uri": "https://localhost:8080/"
        },
        "id": "0Q8NMzFsYHWY",
        "outputId": "966b8862-5d15-49c8-9bca-841be1d4bfbc"
      },
      "source": [
        "%%writefile p1.cpp\n",
        "#include <iostream>\n",
        "using namespace std;\n",
        "int main(){\n",
        "    cout << \"Hola UPCino\";\n",
        "    return 0;\n",
        "}\n"
      ],
      "execution_count": 1,
      "outputs": [
        {
          "output_type": "stream",
          "text": [
            "Writing p1.cpp\n"
          ],
          "name": "stdout"
        }
      ]
    },
    {
      "cell_type": "code",
      "metadata": {
        "id": "A1FBDZ-VZ4v-"
      },
      "source": [
        "#compilando codigo en c++\n",
        "!g++ p1.cpp"
      ],
      "execution_count": 5,
      "outputs": []
    },
    {
      "cell_type": "code",
      "metadata": {
        "colab": {
          "base_uri": "https://localhost:8080/"
        },
        "id": "ocMuzyzPZ7pb",
        "outputId": "77743cb4-7e7d-44df-ab5b-9f0f0bdcbae8"
      },
      "source": [
        "#Ejecuta el binario\n",
        "!./a.out"
      ],
      "execution_count": 7,
      "outputs": [
        {
          "output_type": "stream",
          "text": [
            "Hola UPCino"
          ],
          "name": "stdout"
        }
      ]
    },
    {
      "cell_type": "code",
      "metadata": {
        "colab": {
          "base_uri": "https://localhost:8080/"
        },
        "id": "2LFbUQdmarFk",
        "outputId": "5a3c59b2-c452-4d7a-b385-973cbe850fa7"
      },
      "source": [
        "!g++ p1.cpp && ./a.out"
      ],
      "execution_count": 8,
      "outputs": [
        {
          "output_type": "stream",
          "text": [
            "Hola UPCino"
          ],
          "name": "stdout"
        }
      ]
    },
    {
      "cell_type": "code",
      "metadata": {
        "id": "nLFdmKy9a43c"
      },
      "source": [
        ""
      ],
      "execution_count": null,
      "outputs": []
    }
  ]
}